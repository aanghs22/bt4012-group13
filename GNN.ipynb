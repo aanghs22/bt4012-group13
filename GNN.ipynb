{
  "nbformat": 4,
  "nbformat_minor": 0,
  "metadata": {
    "colab": {
      "provenance": []
    },
    "kernelspec": {
      "name": "python3",
      "display_name": "Python 3"
    },
    "language_info": {
      "name": "python"
    }
  },
  "cells": [
    {
      "cell_type": "code",
      "source": [
        "import pandas as pd\n",
        "import numpy as np\n",
        "import matplotlib.pyplot as plt\n",
        "from collections import Counter\n",
        "from sklearn.model_selection import train_test_split\n",
        "from sklearn.preprocessing import LabelEncoder\n",
        "import networkx as nx\n",
        "import torch\n",
        "import torch.nn as nn\n",
        "import torch.nn.functional as F"
      ],
      "metadata": {
        "id": "xvJwQxuyzzF0"
      },
      "execution_count": 1,
      "outputs": []
    },
    {
      "cell_type": "code",
      "source": [
        "#from google.colab import drive\n",
        "#drive.mount('/content/drive')\n",
        "\n",
        "full_df = pd.read_csv('/content/drive/MyDrive/full_transactions.csv')"
      ],
      "metadata": {
        "colab": {
          "base_uri": "https://localhost:8080/"
        },
        "id": "kSdo2JQu2iHX",
        "outputId": "5e051f22-47e6-441e-80bd-304fe92b94a5"
      },
      "execution_count": 2,
      "outputs": [
        {
          "output_type": "stream",
          "name": "stderr",
          "text": [
            "<ipython-input-2-76fa6f42fc2c>:4: DtypeWarning: Columns (7) have mixed types. Specify dtype option on import or set low_memory=False.\n",
            "  full_df = pd.read_csv('/content/drive/MyDrive/full_transactions.csv')\n"
          ]
        }
      ]
    },
    {
      "cell_type": "code",
      "source": [
        "new_df = full_df.fillna('')"
      ],
      "metadata": {
        "id": "hFC0kDrF65fv"
      },
      "execution_count": 3,
      "outputs": []
    },
    {
      "cell_type": "code",
      "source": [
        "new_df['to'] = new_df['address to'] + new_df['contractInteracted']"
      ],
      "metadata": {
        "id": "RlZyDmpO7GLh"
      },
      "execution_count": 4,
      "outputs": []
    },
    {
      "cell_type": "code",
      "source": [
        "new_df2 = new_df.drop(['address to','contractInteracted','Unnamed: 0'],axis=1)"
      ],
      "metadata": {
        "id": "rGEj01Lm7uBs"
      },
      "execution_count": 5,
      "outputs": []
    },
    {
      "cell_type": "code",
      "source": [
        "new_df2.head()"
      ],
      "metadata": {
        "colab": {
          "base_uri": "https://localhost:8080/",
          "height": 206
        },
        "id": "TldbDK3K8IeF",
        "outputId": "b540e6b9-f59b-4f9d-fd7a-b18a729cb8ce"
      },
      "execution_count": 6,
      "outputs": [
        {
          "output_type": "execute_result",
          "data": {
            "text/plain": [
              "   flag                                address from   timestamp  \\\n",
              "0     1  0xc6c198c7e472de4313f2ae9c9b02185dd8d91262  1594562749   \n",
              "1     1  0x028d61f42f1ca1ad6887f3311a0b1789ef6dadbb  1594563733   \n",
              "2     1  0xfbb1b73c4f0bda4f67dca266ce6ef42f520fbb98  1594563793   \n",
              "3     1  0x2c2b7579e86363ccd46d0942f7fe274ccdbae351  1594563893   \n",
              "4     1  0xabf1bbefc50800427ac69fa2e62ceac9b3b11d5b  1594564904   \n",
              "\n",
              "                 amount  gasUsed                                          to  \n",
              "0     10000000000000000    21000  0x000000000532b45f47779fce440748893b257865  \n",
              "1  10000000000000000000    21000  0x000000000532b45f47779fce440748893b257865  \n",
              "2   5000000000000000000    21000  0x000000000532b45f47779fce440748893b257865  \n",
              "3   5000000000000000000    21000  0x000000000532b45f47779fce440748893b257865  \n",
              "4    535414469040000000    21000  0x000000000532b45f47779fce440748893b257865  "
            ],
            "text/html": [
              "\n",
              "  <div id=\"df-ca0410bb-ec00-46fc-810c-9cb37403d7fe\" class=\"colab-df-container\">\n",
              "    <div>\n",
              "<style scoped>\n",
              "    .dataframe tbody tr th:only-of-type {\n",
              "        vertical-align: middle;\n",
              "    }\n",
              "\n",
              "    .dataframe tbody tr th {\n",
              "        vertical-align: top;\n",
              "    }\n",
              "\n",
              "    .dataframe thead th {\n",
              "        text-align: right;\n",
              "    }\n",
              "</style>\n",
              "<table border=\"1\" class=\"dataframe\">\n",
              "  <thead>\n",
              "    <tr style=\"text-align: right;\">\n",
              "      <th></th>\n",
              "      <th>flag</th>\n",
              "      <th>address from</th>\n",
              "      <th>timestamp</th>\n",
              "      <th>amount</th>\n",
              "      <th>gasUsed</th>\n",
              "      <th>to</th>\n",
              "    </tr>\n",
              "  </thead>\n",
              "  <tbody>\n",
              "    <tr>\n",
              "      <th>0</th>\n",
              "      <td>1</td>\n",
              "      <td>0xc6c198c7e472de4313f2ae9c9b02185dd8d91262</td>\n",
              "      <td>1594562749</td>\n",
              "      <td>10000000000000000</td>\n",
              "      <td>21000</td>\n",
              "      <td>0x000000000532b45f47779fce440748893b257865</td>\n",
              "    </tr>\n",
              "    <tr>\n",
              "      <th>1</th>\n",
              "      <td>1</td>\n",
              "      <td>0x028d61f42f1ca1ad6887f3311a0b1789ef6dadbb</td>\n",
              "      <td>1594563733</td>\n",
              "      <td>10000000000000000000</td>\n",
              "      <td>21000</td>\n",
              "      <td>0x000000000532b45f47779fce440748893b257865</td>\n",
              "    </tr>\n",
              "    <tr>\n",
              "      <th>2</th>\n",
              "      <td>1</td>\n",
              "      <td>0xfbb1b73c4f0bda4f67dca266ce6ef42f520fbb98</td>\n",
              "      <td>1594563793</td>\n",
              "      <td>5000000000000000000</td>\n",
              "      <td>21000</td>\n",
              "      <td>0x000000000532b45f47779fce440748893b257865</td>\n",
              "    </tr>\n",
              "    <tr>\n",
              "      <th>3</th>\n",
              "      <td>1</td>\n",
              "      <td>0x2c2b7579e86363ccd46d0942f7fe274ccdbae351</td>\n",
              "      <td>1594563893</td>\n",
              "      <td>5000000000000000000</td>\n",
              "      <td>21000</td>\n",
              "      <td>0x000000000532b45f47779fce440748893b257865</td>\n",
              "    </tr>\n",
              "    <tr>\n",
              "      <th>4</th>\n",
              "      <td>1</td>\n",
              "      <td>0xabf1bbefc50800427ac69fa2e62ceac9b3b11d5b</td>\n",
              "      <td>1594564904</td>\n",
              "      <td>535414469040000000</td>\n",
              "      <td>21000</td>\n",
              "      <td>0x000000000532b45f47779fce440748893b257865</td>\n",
              "    </tr>\n",
              "  </tbody>\n",
              "</table>\n",
              "</div>\n",
              "    <div class=\"colab-df-buttons\">\n",
              "\n",
              "  <div class=\"colab-df-container\">\n",
              "    <button class=\"colab-df-convert\" onclick=\"convertToInteractive('df-ca0410bb-ec00-46fc-810c-9cb37403d7fe')\"\n",
              "            title=\"Convert this dataframe to an interactive table.\"\n",
              "            style=\"display:none;\">\n",
              "\n",
              "  <svg xmlns=\"http://www.w3.org/2000/svg\" height=\"24px\" viewBox=\"0 -960 960 960\">\n",
              "    <path d=\"M120-120v-720h720v720H120Zm60-500h600v-160H180v160Zm220 220h160v-160H400v160Zm0 220h160v-160H400v160ZM180-400h160v-160H180v160Zm440 0h160v-160H620v160ZM180-180h160v-160H180v160Zm440 0h160v-160H620v160Z\"/>\n",
              "  </svg>\n",
              "    </button>\n",
              "\n",
              "  <style>\n",
              "    .colab-df-container {\n",
              "      display:flex;\n",
              "      gap: 12px;\n",
              "    }\n",
              "\n",
              "    .colab-df-convert {\n",
              "      background-color: #E8F0FE;\n",
              "      border: none;\n",
              "      border-radius: 50%;\n",
              "      cursor: pointer;\n",
              "      display: none;\n",
              "      fill: #1967D2;\n",
              "      height: 32px;\n",
              "      padding: 0 0 0 0;\n",
              "      width: 32px;\n",
              "    }\n",
              "\n",
              "    .colab-df-convert:hover {\n",
              "      background-color: #E2EBFA;\n",
              "      box-shadow: 0px 1px 2px rgba(60, 64, 67, 0.3), 0px 1px 3px 1px rgba(60, 64, 67, 0.15);\n",
              "      fill: #174EA6;\n",
              "    }\n",
              "\n",
              "    .colab-df-buttons div {\n",
              "      margin-bottom: 4px;\n",
              "    }\n",
              "\n",
              "    [theme=dark] .colab-df-convert {\n",
              "      background-color: #3B4455;\n",
              "      fill: #D2E3FC;\n",
              "    }\n",
              "\n",
              "    [theme=dark] .colab-df-convert:hover {\n",
              "      background-color: #434B5C;\n",
              "      box-shadow: 0px 1px 3px 1px rgba(0, 0, 0, 0.15);\n",
              "      filter: drop-shadow(0px 1px 2px rgba(0, 0, 0, 0.3));\n",
              "      fill: #FFFFFF;\n",
              "    }\n",
              "  </style>\n",
              "\n",
              "    <script>\n",
              "      const buttonEl =\n",
              "        document.querySelector('#df-ca0410bb-ec00-46fc-810c-9cb37403d7fe button.colab-df-convert');\n",
              "      buttonEl.style.display =\n",
              "        google.colab.kernel.accessAllowed ? 'block' : 'none';\n",
              "\n",
              "      async function convertToInteractive(key) {\n",
              "        const element = document.querySelector('#df-ca0410bb-ec00-46fc-810c-9cb37403d7fe');\n",
              "        const dataTable =\n",
              "          await google.colab.kernel.invokeFunction('convertToInteractive',\n",
              "                                                    [key], {});\n",
              "        if (!dataTable) return;\n",
              "\n",
              "        const docLinkHtml = 'Like what you see? Visit the ' +\n",
              "          '<a target=\"_blank\" href=https://colab.research.google.com/notebooks/data_table.ipynb>data table notebook</a>'\n",
              "          + ' to learn more about interactive tables.';\n",
              "        element.innerHTML = '';\n",
              "        dataTable['output_type'] = 'display_data';\n",
              "        await google.colab.output.renderOutput(dataTable, element);\n",
              "        const docLink = document.createElement('div');\n",
              "        docLink.innerHTML = docLinkHtml;\n",
              "        element.appendChild(docLink);\n",
              "      }\n",
              "    </script>\n",
              "  </div>\n",
              "\n",
              "\n",
              "<div id=\"df-a880a845-af09-48c1-ad1f-753ae171e341\">\n",
              "  <button class=\"colab-df-quickchart\" onclick=\"quickchart('df-a880a845-af09-48c1-ad1f-753ae171e341')\"\n",
              "            title=\"Suggest charts.\"\n",
              "            style=\"display:none;\">\n",
              "\n",
              "<svg xmlns=\"http://www.w3.org/2000/svg\" height=\"24px\"viewBox=\"0 0 24 24\"\n",
              "     width=\"24px\">\n",
              "    <g>\n",
              "        <path d=\"M19 3H5c-1.1 0-2 .9-2 2v14c0 1.1.9 2 2 2h14c1.1 0 2-.9 2-2V5c0-1.1-.9-2-2-2zM9 17H7v-7h2v7zm4 0h-2V7h2v10zm4 0h-2v-4h2v4z\"/>\n",
              "    </g>\n",
              "</svg>\n",
              "  </button>\n",
              "\n",
              "<style>\n",
              "  .colab-df-quickchart {\n",
              "      --bg-color: #E8F0FE;\n",
              "      --fill-color: #1967D2;\n",
              "      --hover-bg-color: #E2EBFA;\n",
              "      --hover-fill-color: #174EA6;\n",
              "      --disabled-fill-color: #AAA;\n",
              "      --disabled-bg-color: #DDD;\n",
              "  }\n",
              "\n",
              "  [theme=dark] .colab-df-quickchart {\n",
              "      --bg-color: #3B4455;\n",
              "      --fill-color: #D2E3FC;\n",
              "      --hover-bg-color: #434B5C;\n",
              "      --hover-fill-color: #FFFFFF;\n",
              "      --disabled-bg-color: #3B4455;\n",
              "      --disabled-fill-color: #666;\n",
              "  }\n",
              "\n",
              "  .colab-df-quickchart {\n",
              "    background-color: var(--bg-color);\n",
              "    border: none;\n",
              "    border-radius: 50%;\n",
              "    cursor: pointer;\n",
              "    display: none;\n",
              "    fill: var(--fill-color);\n",
              "    height: 32px;\n",
              "    padding: 0;\n",
              "    width: 32px;\n",
              "  }\n",
              "\n",
              "  .colab-df-quickchart:hover {\n",
              "    background-color: var(--hover-bg-color);\n",
              "    box-shadow: 0 1px 2px rgba(60, 64, 67, 0.3), 0 1px 3px 1px rgba(60, 64, 67, 0.15);\n",
              "    fill: var(--button-hover-fill-color);\n",
              "  }\n",
              "\n",
              "  .colab-df-quickchart-complete:disabled,\n",
              "  .colab-df-quickchart-complete:disabled:hover {\n",
              "    background-color: var(--disabled-bg-color);\n",
              "    fill: var(--disabled-fill-color);\n",
              "    box-shadow: none;\n",
              "  }\n",
              "\n",
              "  .colab-df-spinner {\n",
              "    border: 2px solid var(--fill-color);\n",
              "    border-color: transparent;\n",
              "    border-bottom-color: var(--fill-color);\n",
              "    animation:\n",
              "      spin 1s steps(1) infinite;\n",
              "  }\n",
              "\n",
              "  @keyframes spin {\n",
              "    0% {\n",
              "      border-color: transparent;\n",
              "      border-bottom-color: var(--fill-color);\n",
              "      border-left-color: var(--fill-color);\n",
              "    }\n",
              "    20% {\n",
              "      border-color: transparent;\n",
              "      border-left-color: var(--fill-color);\n",
              "      border-top-color: var(--fill-color);\n",
              "    }\n",
              "    30% {\n",
              "      border-color: transparent;\n",
              "      border-left-color: var(--fill-color);\n",
              "      border-top-color: var(--fill-color);\n",
              "      border-right-color: var(--fill-color);\n",
              "    }\n",
              "    40% {\n",
              "      border-color: transparent;\n",
              "      border-right-color: var(--fill-color);\n",
              "      border-top-color: var(--fill-color);\n",
              "    }\n",
              "    60% {\n",
              "      border-color: transparent;\n",
              "      border-right-color: var(--fill-color);\n",
              "    }\n",
              "    80% {\n",
              "      border-color: transparent;\n",
              "      border-right-color: var(--fill-color);\n",
              "      border-bottom-color: var(--fill-color);\n",
              "    }\n",
              "    90% {\n",
              "      border-color: transparent;\n",
              "      border-bottom-color: var(--fill-color);\n",
              "    }\n",
              "  }\n",
              "</style>\n",
              "\n",
              "  <script>\n",
              "    async function quickchart(key) {\n",
              "      const quickchartButtonEl =\n",
              "        document.querySelector('#' + key + ' button');\n",
              "      quickchartButtonEl.disabled = true;  // To prevent multiple clicks.\n",
              "      quickchartButtonEl.classList.add('colab-df-spinner');\n",
              "      try {\n",
              "        const charts = await google.colab.kernel.invokeFunction(\n",
              "            'suggestCharts', [key], {});\n",
              "      } catch (error) {\n",
              "        console.error('Error during call to suggestCharts:', error);\n",
              "      }\n",
              "      quickchartButtonEl.classList.remove('colab-df-spinner');\n",
              "      quickchartButtonEl.classList.add('colab-df-quickchart-complete');\n",
              "    }\n",
              "    (() => {\n",
              "      let quickchartButtonEl =\n",
              "        document.querySelector('#df-a880a845-af09-48c1-ad1f-753ae171e341 button');\n",
              "      quickchartButtonEl.style.display =\n",
              "        google.colab.kernel.accessAllowed ? 'block' : 'none';\n",
              "    })();\n",
              "  </script>\n",
              "</div>\n",
              "    </div>\n",
              "  </div>\n"
            ]
          },
          "metadata": {},
          "execution_count": 6
        }
      ]
    },
    {
      "cell_type": "code",
      "source": [
        "new_df3 = pd.concat([new_df2.iloc[0:25000,:],new_df2.iloc[25001:,:].sample(n=75000,random_state=0)])"
      ],
      "metadata": {
        "id": "xuhwiUO0d1H0"
      },
      "execution_count": 7,
      "outputs": []
    },
    {
      "cell_type": "code",
      "source": [
        "# Create an empty graph\n",
        "G = nx.MultiGraph()\n",
        "\n",
        "# Add nodes to the graph for each unique address from , address to (might be contract too)\n",
        "G.add_nodes_from(new_df3[\"address from\"].unique(), type='addressFrom')\n",
        "G.add_nodes_from(new_df3[\"to\"].unique(), type='addressTo')"
      ],
      "metadata": {
        "id": "h1fpnOJ8Aw0z"
      },
      "execution_count": 8,
      "outputs": []
    },
    {
      "cell_type": "code",
      "source": [
        "# Add edges and properties to the edges\n",
        "for _, row in new_df3.iterrows():\n",
        "    # Create a variable for each properties for each edge\n",
        "\n",
        "        time = row[\"timestamp\"],\n",
        "        amt = row[\"amount\"],\n",
        "        gas = row[\"gasUsed\"],\n",
        "\n",
        "\n",
        "        G.add_edge(row['address from'], row['to'], time = time , amt = amt , gas = gas)"
      ],
      "metadata": {
        "id": "UhVDiN_dIlPN"
      },
      "execution_count": 9,
      "outputs": []
    },
    {
      "cell_type": "code",
      "source": [
        "# Get the number of nodes and edges in the graph\n",
        "num_nodes = G.number_of_nodes()\n",
        "num_edges = G.number_of_edges()\n",
        "\n",
        "# Print the number of nodes and edges\n",
        "print(\"Number of nodes:\", num_nodes)\n",
        "print(\"Number of edges:\", num_edges)"
      ],
      "metadata": {
        "colab": {
          "base_uri": "https://localhost:8080/"
        },
        "id": "AccSwD65C0sR",
        "outputId": "2b068587-ef30-4ebf-b0dd-defebc254dde"
      },
      "execution_count": 10,
      "outputs": [
        {
          "output_type": "stream",
          "name": "stdout",
          "text": [
            "Number of nodes: 60013\n",
            "Number of edges: 100000\n"
          ]
        }
      ]
    },
    {
      "cell_type": "code",
      "source": [
        "adj_matrix = nx.adjacency_matrix(G).todense()"
      ],
      "metadata": {
        "id": "S0DO1YP5Kf76"
      },
      "execution_count": 11,
      "outputs": []
    },
    {
      "cell_type": "code",
      "source": [
        "adj_matrix.shape"
      ],
      "metadata": {
        "colab": {
          "base_uri": "https://localhost:8080/"
        },
        "id": "KPhuHOIYKgw3",
        "outputId": "f5d78e1b-8e56-49e4-9ad9-d4f104fa9982"
      },
      "execution_count": 12,
      "outputs": [
        {
          "output_type": "execute_result",
          "data": {
            "text/plain": [
              "(60013, 60013)"
            ]
          },
          "metadata": {},
          "execution_count": 12
        }
      ]
    },
    {
      "cell_type": "code",
      "source": [
        "# Prepare the data for input into the model\n",
        "edge_list = list(G.edges(data=True))"
      ],
      "metadata": {
        "id": "Dl0J_jJiKrtE"
      },
      "execution_count": 13,
      "outputs": []
    },
    {
      "cell_type": "code",
      "source": [
        "class FraudGNN(nn.Module):\n",
        "    def __init__(self, input_dim, hidden_dim):\n",
        "        super(FraudGNN, self).__init__()\n",
        "        self.fc1 = nn.Linear(input_dim, hidden_dim)\n",
        "        self.fc2 = nn.Linear(hidden_dim, 1)\n",
        "\n",
        "    def forward(self, x):\n",
        "        x = self.fc1(x)\n",
        "        x = F.sigmoid(self.fc2(x))\n",
        "        x = F.sigmoid(x)\n",
        "        return x.squeeze(-1)\n",
        "\n",
        "# Prepare the data for input into the model\n",
        "x = []\n",
        "for edge in edge_list:\n",
        "    edge_values = list(edge[2].values())\n",
        "    edge_values = [float(i[0]) if type(i) == tuple and type(i[0]) == str else i[0] if type(i) == tuple else i for i in edge_values]\n",
        "    x.append(edge_values)\n",
        "x = torch.tensor(x, dtype=torch.float)"
      ],
      "metadata": {
        "id": "0ESFegZ_Ku11"
      },
      "execution_count": 14,
      "outputs": []
    },
    {
      "cell_type": "code",
      "source": [
        "target = torch.tensor(new_df3['flag'].values, dtype=torch.float)"
      ],
      "metadata": {
        "id": "bHKqoeXwK7Ty"
      },
      "execution_count": 15,
      "outputs": []
    },
    {
      "cell_type": "code",
      "source": [
        "# Define the model\n",
        "input_dim = len(x[0])\n",
        "hidden_dim = 16\n",
        "model = FraudGNN(input_dim, hidden_dim)\n",
        "num_epochs=201\n",
        "\n",
        "# Define the loss function and optimizer\n",
        "criterion = nn.BCEWithLogitsLoss()\n",
        "optimizer = torch.optim.Adam(model.parameters(), lr=0.01)"
      ],
      "metadata": {
        "id": "bulQe-GgLDtS"
      },
      "execution_count": 16,
      "outputs": []
    },
    {
      "cell_type": "code",
      "source": [
        "# Train the model\n",
        "for i in range(num_epochs):\n",
        "    # Forward pass\n",
        "    output = model(x)\n",
        "    # Compute the loss\n",
        "    loss = criterion(output, target)\n",
        "    acc = (output.round() == target).float().mean()\n",
        "    if i % 20 == 0:\n",
        "        print(f'Epoch: {i}, Loss: {loss.item()}, Accuracy:{acc}')\n",
        "    # Zero the gradients\n",
        "    optimizer.zero_grad()\n",
        "    # Perform backpropagation\n",
        "    loss.backward()\n",
        "    # Update the parameters\n",
        "    optimizer.step()\n",
        "\n"
      ],
      "metadata": {
        "colab": {
          "base_uri": "https://localhost:8080/"
        },
        "id": "MTxjxgpDLKDf",
        "outputId": "cf6dde7c-0edd-42a2-facd-c96b847fa6a1"
      },
      "execution_count": 17,
      "outputs": [
        {
          "output_type": "stream",
          "name": "stdout",
          "text": [
            "Epoch: 0, Loss: 0.8426620960235596, Accuracy:0.7371699810028076\n",
            "Epoch: 20, Loss: 0.8426620960235596, Accuracy:0.7371699810028076\n",
            "Epoch: 40, Loss: 0.8426620960235596, Accuracy:0.7371699810028076\n",
            "Epoch: 60, Loss: 0.8426620960235596, Accuracy:0.7371699810028076\n",
            "Epoch: 80, Loss: 0.8426620960235596, Accuracy:0.7371699810028076\n",
            "Epoch: 100, Loss: 0.8426620960235596, Accuracy:0.7371699810028076\n",
            "Epoch: 120, Loss: 0.8426620960235596, Accuracy:0.7371699810028076\n",
            "Epoch: 140, Loss: 0.8426620960235596, Accuracy:0.7371699810028076\n",
            "Epoch: 160, Loss: 0.8426620960235596, Accuracy:0.7371699810028076\n",
            "Epoch: 180, Loss: 0.8426620960235596, Accuracy:0.7371699810028076\n",
            "Epoch: 200, Loss: 0.8426620960235596, Accuracy:0.7371699810028076\n"
          ]
        }
      ]
    },
    {
      "cell_type": "code",
      "source": [
        "new_df4 = new_df2.sample(n=100000,random_state = 0)"
      ],
      "metadata": {
        "id": "1GV0j1stIJAM"
      },
      "execution_count": 18,
      "outputs": []
    },
    {
      "cell_type": "code",
      "source": [
        "# Create an empty graph\n",
        "G2 = nx.MultiGraph()\n",
        "\n",
        "# Add nodes to the graph for each unique address from , address to (might be contract too)\n",
        "G2.add_nodes_from(new_df4[\"address from\"].unique(), type='addressFrom')\n",
        "G2.add_nodes_from(new_df4[\"to\"].unique(), type='addressTo')"
      ],
      "metadata": {
        "id": "t1ZjNPs0IMm-"
      },
      "execution_count": 19,
      "outputs": []
    },
    {
      "cell_type": "code",
      "source": [
        "# Add edges and properties to the edges\n",
        "for _, row in new_df4.iterrows():\n",
        "    # Create a variable for each properties for each edge\n",
        "\n",
        "        time = row[\"timestamp\"],\n",
        "        amt = row[\"amount\"],\n",
        "        gas = row[\"gasUsed\"],\n",
        "\n",
        "\n",
        "        G2.add_edge(row['address from'], row['to'], time = time , amt = amt , gas = gas)"
      ],
      "metadata": {
        "id": "LG6tx2P7IVBW"
      },
      "execution_count": 20,
      "outputs": []
    },
    {
      "cell_type": "code",
      "source": [
        "# Get the number of nodes and edges in the graph\n",
        "num_nodes = G2.number_of_nodes()\n",
        "num_edges = G2.number_of_edges()\n",
        "\n",
        "# Print the number of nodes and edges\n",
        "print(\"Number of nodes:\", num_nodes)\n",
        "print(\"Number of edges:\", num_edges)"
      ],
      "metadata": {
        "colab": {
          "base_uri": "https://localhost:8080/"
        },
        "id": "U-JJDbvyIqkF",
        "outputId": "f9cc2089-30ae-4624-a0cc-b099c9fc301e"
      },
      "execution_count": 21,
      "outputs": [
        {
          "output_type": "stream",
          "name": "stdout",
          "text": [
            "Number of nodes: 59534\n",
            "Number of edges: 100000\n"
          ]
        }
      ]
    },
    {
      "cell_type": "code",
      "source": [
        "adj_matrix2 = nx.adjacency_matrix(G2).todense()"
      ],
      "metadata": {
        "id": "wlkdCszzIt8X"
      },
      "execution_count": 22,
      "outputs": []
    },
    {
      "cell_type": "code",
      "source": [
        "# Prepare the data for input into the model\n",
        "edge_list2 = list(G2.edges(data=True))"
      ],
      "metadata": {
        "id": "DL_qR0YVI1_G"
      },
      "execution_count": 23,
      "outputs": []
    },
    {
      "cell_type": "code",
      "source": [
        "class FraudGNN2(nn.Module):\n",
        "    def __init__(self, input_dim, hidden_dim):\n",
        "        super(FraudGNN2, self).__init__()\n",
        "        self.fc1 = nn.Linear(input_dim, hidden_dim)\n",
        "        self.fc2 = nn.Linear(hidden_dim, 1)\n",
        "\n",
        "    def forward(self, x):\n",
        "        x = self.fc1(x)\n",
        "        x = F.sigmoid(x)\n",
        "        x = self.fc2(x)\n",
        "        return x.squeeze(-1)\n",
        "\n",
        "# Prepare the data for input into the model\n",
        "x2 = []\n",
        "for edge in edge_list2:\n",
        "    edge_values = list(edge[2].values())\n",
        "    edge_values = [float(i[0]) if type(i) == tuple and type(i[0]) == str else i[0] if type(i) == tuple else i for i in edge_values]\n",
        "    x2.append(edge_values)\n",
        "x2 = torch.tensor(x2, dtype=torch.float)"
      ],
      "metadata": {
        "id": "eOvrVeAHJgGJ"
      },
      "execution_count": 24,
      "outputs": []
    },
    {
      "cell_type": "code",
      "source": [
        "target2 = torch.tensor(new_df4['flag'].values, dtype=torch.float)"
      ],
      "metadata": {
        "id": "7F2S7_ZhI6Hf"
      },
      "execution_count": 25,
      "outputs": []
    },
    {
      "cell_type": "code",
      "source": [
        "# Define the model\n",
        "input_dim2 = len(x2[0])\n",
        "hidden_dim2 = 16\n",
        "model2 = FraudGNN2(input_dim2, hidden_dim2)\n",
        "num_epochs=201\n",
        "\n",
        "# Define the loss function and optimizer\n",
        "criterion = nn.BCEWithLogitsLoss()\n",
        "optimizer = torch.optim.Adam(model2.parameters(), lr=0.0001)"
      ],
      "metadata": {
        "id": "mHIY7OAnI_T1"
      },
      "execution_count": 28,
      "outputs": []
    },
    {
      "cell_type": "code",
      "source": [
        "# Train the model\n",
        "for i in range(num_epochs):\n",
        "    # Forward pass\n",
        "    output2 = model2(x2)\n",
        "    # Compute the loss\n",
        "    loss2 = criterion(output2, target2)\n",
        "    acc = (output2.round() == target2).float().mean()\n",
        "    if i % 20 == 0:\n",
        "        print(f'Epoch: {i}, Loss: {loss.item()}, Accuracy:{acc}')\n",
        "    # Zero the gradients\n",
        "    optimizer.zero_grad()\n",
        "    # Perform backpropagation\n",
        "    loss2.backward()\n",
        "    # Update the parameters\n",
        "    optimizer.step()"
      ],
      "metadata": {
        "colab": {
          "base_uri": "https://localhost:8080/"
        },
        "id": "6u6jhOvdJN-G",
        "outputId": "7d3cabe2-b1d2-4262-ae2c-7f69da2d5f1a"
      },
      "execution_count": 29,
      "outputs": [
        {
          "output_type": "stream",
          "name": "stdout",
          "text": [
            "Epoch: 0, Loss: 0.8426620960235596, Accuracy:0.9809200167655945\n",
            "Epoch: 20, Loss: 0.8426620960235596, Accuracy:0.9809200167655945\n",
            "Epoch: 40, Loss: 0.8426620960235596, Accuracy:0.9809200167655945\n",
            "Epoch: 60, Loss: 0.8426620960235596, Accuracy:0.9809100031852722\n",
            "Epoch: 80, Loss: 0.8426620960235596, Accuracy:0.9809100031852722\n",
            "Epoch: 100, Loss: 0.8426620960235596, Accuracy:0.9809100031852722\n",
            "Epoch: 120, Loss: 0.8426620960235596, Accuracy:0.9809100031852722\n",
            "Epoch: 140, Loss: 0.8426620960235596, Accuracy:0.9809100031852722\n",
            "Epoch: 160, Loss: 0.8426620960235596, Accuracy:0.9809100031852722\n",
            "Epoch: 180, Loss: 0.8426620960235596, Accuracy:0.980400025844574\n",
            "Epoch: 200, Loss: 0.8426620960235596, Accuracy:0.980400025844574\n"
          ]
        }
      ]
    }
  ]
}