{
 "cells": [
  {
   "cell_type": "markdown",
   "metadata": {},
   "source": [
    "# Account Level Data"
   ]
  },
  {
   "cell_type": "markdown",
   "metadata": {},
   "source": [
    "## Download Kaggle Datasets\n",
    "\n",
    "data/raw/eth_illicit_features.csv <br>\n",
    "`https://www.kaggle.com/datasets/gescobero/ethereum-fraud-dataset`\n",
    "\n",
    "data/raw/transaction_dataset.csv <br>\n",
    "`https://www.kaggle.com/datasets/vagifa/ethereum-frauddetection-dataset`"
   ]
  },
  {
   "cell_type": "markdown",
   "metadata": {},
   "source": [
    "## Merge Kaggle Datasets"
   ]
  },
  {
   "cell_type": "code",
   "execution_count": 2,
   "metadata": {},
   "outputs": [
    {
     "name": "stdout",
     "output_type": "stream",
     "text": [
      "<class 'pandas.core.frame.DataFrame'>\n",
      "RangeIndex: 20302 entries, 0 to 20301\n",
      "Data columns (total 21 columns):\n",
      " #   Column                   Non-Null Count  Dtype  \n",
      "---  ------                   --------------  -----  \n",
      " 0   address                  20302 non-null  object \n",
      " 1   flag                     20302 non-null  int64  \n",
      " 2   avgTimeBetweenSentTnx    20302 non-null  float64\n",
      " 3   avgTimeBetweenRecTnx     20302 non-null  float64\n",
      " 4   lifetime                 20302 non-null  float64\n",
      " 5   sentTransactions         20302 non-null  int64  \n",
      " 6   receivedTransactions     20302 non-null  int64  \n",
      " 7   createdContracts         20302 non-null  int64  \n",
      " 8   numUniqRecAddress        20302 non-null  int64  \n",
      " 9   numUniqSentAddress       20302 non-null  int64  \n",
      " 10  minValReceived           20302 non-null  float64\n",
      " 11  maxValReceived           20302 non-null  float64\n",
      " 12  avgValReceived           20302 non-null  float64\n",
      " 13  minValSent               20302 non-null  float64\n",
      " 14  maxValSent               20302 non-null  float64\n",
      " 15  avgValSent               20302 non-null  float64\n",
      " 16  totalTransactions        20302 non-null  int64  \n",
      " 17  totalEtherSent           20302 non-null  float64\n",
      " 18  totalEtherReceived       20302 non-null  float64\n",
      " 19  totalEtherSentContracts  20302 non-null  float64\n",
      " 20  totalEtherBalance        20302 non-null  float64\n",
      "dtypes: float64(13), int64(7), object(1)\n",
      "memory usage: 3.3+ MB\n"
     ]
    }
   ],
   "source": [
    "import pandas as pd\n",
    "\n",
    "mapping = {\n",
    "    'Address': 'address',\n",
    "    'FLAG': 'flag',\n",
    "    'Avg min between sent tnx': 'avgTimeBetweenSentTnx',\n",
    "    'Avg min between received tnx': 'avgTimeBetweenRecTnx',\n",
    "    'Time Diff between first and last (Mins)': 'lifetime',\n",
    "    'Sent tnx': 'sentTransactions',\n",
    "    'Received Tnx': 'receivedTransactions',\n",
    "    'Number of Created Contracts': 'createdContracts',\n",
    "    'Unique Received From Addresses': 'numUniqRecAddress',\n",
    "    'Unique Sent To Addresses': 'numUniqSentAddress',\n",
    "    'min value received': 'minValReceived',\n",
    "    'max value received ': 'maxValReceived',\n",
    "    'avg val received': 'avgValReceived',\n",
    "    'min val sent': 'minValSent',\n",
    "    'max val sent': 'maxValSent',\n",
    "    'avg val sent': 'avgValSent',\n",
    "    'total transactions (including tnx to create contract': 'totalTransactions',\n",
    "    'total Ether sent': 'totalEtherSent',\n",
    "    'total ether received': 'totalEtherReceived',\n",
    "    'total ether sent contracts': 'totalEtherSentContracts',\n",
    "    'total ether balance': 'totalEtherBalance',\n",
    "}\n",
    "\n",
    "df_kaggle_1 = pd.read_csv('data/raw/eth_illicit_features.csv') \\\n",
    "    [mapping.values()]\n",
    "df_kaggle_2 = pd.read_csv('data/raw/transaction_dataset.csv') \\\n",
    "    .drop(columns=['Unnamed: 0', 'Index']) \\\n",
    "    .rename(columns=mapping) \\\n",
    "    [mapping.values()]\n",
    "\n",
    "df_account = pd.concat([df_kaggle_1, df_kaggle_2]) \\\n",
    "    .drop_duplicates(subset='address') \\\n",
    "    .reset_index(drop=True) \\\n",
    "    .to_csv('data/processed/kaggle_transaction_dataset.csv', index=False)\n",
    "    \n",
    "df_account = pd.read_csv('data/processed/kaggle_transaction_dataset.csv')\n",
    "df_account.info()"
   ]
  },
  {
   "cell_type": "markdown",
   "metadata": {},
   "source": [
    "# Transaction Level Data"
   ]
  },
  {
   "cell_type": "markdown",
   "metadata": {},
   "source": [
    "## Query Etherscan API"
   ]
  },
  {
   "cell_type": "code",
   "execution_count": null,
   "metadata": {},
   "outputs": [],
   "source": [
    "import requests\n",
    "import pandas as pd\n",
    "\n",
    "def call(address, flag):\n",
    "    # Define the API endpoint URL\n",
    "    url = 'https://api.etherscan.io/api'\n",
    "\n",
    "    # Define the parameters for the API request\n",
    "    params = {\n",
    "        'module': 'account',\n",
    "        'action': 'txlist',\n",
    "        'address': address,\n",
    "        'startblock': '0', \n",
    "        'endblock': '99999999', \n",
    "        'apikey': 'KCMY95HPGBY5CKC9PYY8FSVVAB89U5EZKU',  # Replace with your actual API key token\n",
    "    }\n",
    "\n",
    "    # Make the API request\n",
    "    response = requests.get(url, params=params)\n",
    "\n",
    "    # Check if the request was successful (status code 200)\n",
    "    if response.status_code == 200:\n",
    "        # Parse the JSON response\n",
    "        data = response.json()\n",
    "        \n",
    "        result = {\n",
    "            'timeStamp': [], \n",
    "            'from': [], \n",
    "            'to': [], \n",
    "            'value': [], \n",
    "            'gasUsed': [], \n",
    "            'flag': [], \n",
    "        }\n",
    "\n",
    "        # Extract the balance from the response\n",
    "        for tx in data['result']:\n",
    "            result['timeStamp'].append(tx['timeStamp'])\n",
    "            result['from'].append(tx['from'])\n",
    "            result['to'].append(tx['to'])\n",
    "            result['value'].append(tx['value'])\n",
    "            result['gasUsed'].append(tx['gasUsed'])\n",
    "            result['flag'].append(flag)\n",
    "        \n",
    "        return result\n",
    "    else:\n",
    "        print(f'Error: {response.status_code} - {response.text}')\n",
    "\n",
    "df_account = pd.read_csv('data/processed/kaggle_transaction.csv')\n",
    "flag_mapping = df_account.set_index('address')['flag'].to_dict()\n",
    "\n",
    "flag = []\n",
    "frm = []\n",
    "to = []\n",
    "time = []\n",
    "val = []\n",
    "gas = []\n",
    "\n",
    "for index, row in df_account.iterrows():\n",
    "    result = call(row['address'], flag_mapping[row['address']])\n",
    "    flag.extend(result['flag'])\n",
    "    frm.extend(result['from'])\n",
    "    to.extend(result['to'])\n",
    "    time.extend(result['timeStamp'])\n",
    "    val.extend(result['value'])\n",
    "    gas.extend(result['gasUsed'])\n",
    "\n",
    "    if index % 500 == 499:\n",
    "        df_result = pd.DataFrame(data={\n",
    "            'flag':flag, \n",
    "            'address from': frm, \n",
    "            'address to': to, \n",
    "            'timestamp':time, \n",
    "            'amount':val, \n",
    "            'gasUsed':gas, \n",
    "        })\n",
    "\n",
    "        full_df.to_csv(f'transactions_{i // 500}.csv', index=False)\n",
    "        flag = []\n",
    "        frm = []\n",
    "        to = []\n",
    "        time = []\n",
    "        val = []\n",
    "        gas = []"
   ]
  },
  {
   "cell_type": "markdown",
   "metadata": {},
   "source": [
    "## Merge EtherScan Datasets"
   ]
  },
  {
   "cell_type": "code",
   "execution_count": null,
   "metadata": {},
   "outputs": [],
   "source": [
    "import pandas as pd\n",
    "\n",
    "merged_df = pd.DataFrame()\n",
    "i = 0\n",
    "while True:\n",
    "    try:\n",
    "        df = pd.read_csv(f'data/queried/transactions_{i}.csv')\n",
    "        merged_df = pd.concat([merged_df, df])\n",
    "        i += 1\n",
    "    except:\n",
    "        full_df.to_csv('data/queried/full_transactions.csv', index=False)\n",
    "        break"
   ]
  }
 ],
 "metadata": {
  "kernelspec": {
   "display_name": "Python 3",
   "language": "python",
   "name": "python3"
  },
  "language_info": {
   "codemirror_mode": {
    "name": "ipython",
    "version": 3
   },
   "file_extension": ".py",
   "mimetype": "text/x-python",
   "name": "python",
   "nbconvert_exporter": "python",
   "pygments_lexer": "ipython3",
   "version": "3.11.5"
  },
  "orig_nbformat": 4
 },
 "nbformat": 4,
 "nbformat_minor": 2
}
