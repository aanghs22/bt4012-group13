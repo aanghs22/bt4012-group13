{
 "cells": [
  {
   "cell_type": "code",
   "execution_count": 2,
   "metadata": {},
   "outputs": [],
   "source": [
    "import pandas as pd\n",
    "import numpy as np\n",
    "import matplotlib.pyplot as plt\n",
    "import seaborn as sns\n",
    "from sklearn.model_selection import train_test_split, GridSearchCV\n",
    "from sklearn.ensemble import RandomForestClassifier\n",
    "from sklearn.metrics import classification_report, confusion_matrix, roc_auc_score\n",
    "from sklearn.preprocessing import StandardScaler\n",
    "import torch\n",
    "import torch.nn.functional as F\n",
    "import torch_geometric.transforms as T\n",
    "\n",
    "from torch_geometric.data import Data\n"
   ]
  },
  {
   "cell_type": "markdown",
   "metadata": {},
   "source": [
    "# Concatenating all the data"
   ]
  },
  {
   "cell_type": "code",
   "execution_count": 27,
   "metadata": {},
   "outputs": [
    {
     "name": "stderr",
     "output_type": "stream",
     "text": [
      "/var/folders/03/rh1df1yd5y7bb1shd2_734pw0000gn/T/ipykernel_41673/2361987607.py:5: DtypeWarning: Columns (4,6) have mixed types. Specify dtype option on import or set low_memory=False.\n",
      "  dfs.append(pd.read_csv(file_path))\n"
     ]
    },
    {
     "data": {
      "text/plain": [
       "((5238249, 7),\n",
       "    flag                                address from  \\\n",
       " 0     1  0xc6c198c7e472de4313f2ae9c9b02185dd8d91262   \n",
       " 1     1  0x028d61f42f1ca1ad6887f3311a0b1789ef6dadbb   \n",
       " 2     1  0xfbb1b73c4f0bda4f67dca266ce6ef42f520fbb98   \n",
       " 3     1  0x2c2b7579e86363ccd46d0942f7fe274ccdbae351   \n",
       " 4     1  0xabf1bbefc50800427ac69fa2e62ceac9b3b11d5b   \n",
       " \n",
       "                                    address to   timestamp  \\\n",
       " 0  0x000000000532b45f47779fce440748893b257865  1594562749   \n",
       " 1  0x000000000532b45f47779fce440748893b257865  1594563733   \n",
       " 2  0x000000000532b45f47779fce440748893b257865  1594563793   \n",
       " 3  0x000000000532b45f47779fce440748893b257865  1594563893   \n",
       " 4  0x000000000532b45f47779fce440748893b257865  1594564904   \n",
       " \n",
       "                  amount  gasUsed contractInteracted  \n",
       " 0     10000000000000000    21000                NaN  \n",
       " 1  10000000000000000000    21000                NaN  \n",
       " 2   5000000000000000000    21000                NaN  \n",
       " 3   5000000000000000000    21000                NaN  \n",
       " 4    535414469040000000    21000                NaN  )"
      ]
     },
     "execution_count": 27,
     "metadata": {},
     "output_type": "execute_result"
    }
   ],
   "source": [
    "dfs = []\n",
    "\n",
    "for i in range(20):  \n",
    "    file_path = f'../bt4012-group13/data/queried/transactions_{i}.csv'\n",
    "    dfs.append(pd.read_csv(file_path))\n",
    "\n",
    "\n",
    "merged_df = pd.concat(dfs)\n",
    "\n",
    "# Display the shape and first few rows of the merged dataframe\n",
    "merged_df.shape, merged_df.head()"
   ]
  },
  {
   "cell_type": "code",
   "execution_count": 28,
   "metadata": {},
   "outputs": [],
   "source": [
    "merged_df = merged_df.drop(['contractInteracted', 'address from', 'address to'], axis=1)"
   ]
  },
  {
   "cell_type": "code",
   "execution_count": 34,
   "metadata": {},
   "outputs": [
    {
     "data": {
      "text/plain": [
       "flag           int64\n",
       "timestamp      int64\n",
       "amount       float64\n",
       "gasUsed        int64\n",
       "dtype: object"
      ]
     },
     "execution_count": 34,
     "metadata": {},
     "output_type": "execute_result"
    }
   ],
   "source": [
    "merged_df['amount'] = merged_df['amount'].astype(float)\n",
    "merged_df.dtypes"
   ]
  },
  {
   "cell_type": "markdown",
   "metadata": {},
   "source": [
    "# Model training on whole dataset"
   ]
  },
  {
   "cell_type": "code",
   "execution_count": 35,
   "metadata": {},
   "outputs": [
    {
     "data": {
      "text/plain": [
       "((3142949, 3), (2095300, 3), (3142949,), (2095300,))"
      ]
     },
     "execution_count": 35,
     "metadata": {},
     "output_type": "execute_result"
    }
   ],
   "source": [
    "X = merged_df.drop(['flag'], axis=1)\n",
    "y = merged_df['flag']\n",
    "X_train, X_test, y_train, y_test = train_test_split(X, y, test_size=0.4, random_state=101)\n",
    "X_train.shape, X_test.shape, y_train.shape, y_test.shape\n"
   ]
  },
  {
   "cell_type": "code",
   "execution_count": 36,
   "metadata": {},
   "outputs": [
    {
     "name": "stdout",
     "output_type": "stream",
     "text": [
      "Accuracy: 0.965486087911039\n",
      "F1 score: 0.6994643161407489\n",
      "Precision: 0.8629688877950737\n",
      "Recall: 0.5880482708984061\n",
      "              precision    recall  f1-score   support\n",
      "\n",
      "           0       0.97      0.99      0.98   1952191\n",
      "           1       0.86      0.59      0.70    143109\n",
      "\n",
      "    accuracy                           0.97   2095300\n",
      "   macro avg       0.92      0.79      0.84   2095300\n",
      "weighted avg       0.96      0.97      0.96   2095300\n",
      "\n"
     ]
    }
   ],
   "source": [
    "# Define the model\n",
    "from xgboost import XGBClassifier\n",
    "from sklearn.metrics import accuracy_score, f1_score, precision_score, recall_score\n",
    "\n",
    "# Define the XGBoost model\n",
    "xgb_model = XGBClassifier(objective='binary:logistic', random_state=1)\n",
    "\n",
    "# Fit the model to the training data\n",
    "xgb_model.fit(X_train, y_train)\n",
    "\n",
    "# Make predictions on the test data\n",
    "y_pred = xgb_model.predict(X_test)\n",
    "\n",
    "accuracy = accuracy_score(y_test, y_pred)\n",
    "f1 = f1_score(y_test, y_pred)\n",
    "precision = precision_score(y_test, y_pred)\n",
    "recall = recall_score(y_test, y_pred)\n",
    "\n",
    "print(f\"Accuracy: {accuracy}\")\n",
    "print(f\"F1 score: {f1}\")\n",
    "print(f\"Precision: {precision}\")\n",
    "print(f\"Recall: {recall}\")\n",
    "print(classification_report(y_test, y_pred))\n"
   ]
  },
  {
   "cell_type": "code",
   "execution_count": 37,
   "metadata": {},
   "outputs": [
    {
     "name": "stdout",
     "output_type": "stream",
     "text": [
      "ROC AUC score: 0.965632460076272\n"
     ]
    },
    {
     "data": {
      "image/png": "[encoded data removed]",
      "text/plain": [
       "<Figure size 640x480 with 1 Axes>"
      ]
     },
     "metadata": {},
     "output_type": "display_data"
    }
   ],
   "source": [
    "from sklearn.metrics import roc_curve, roc_auc_score\n",
    "y_pred_proba = xgb_model.predict_proba(X_test)[:, 1]\n",
    "fpr, tpr, thresholds = roc_curve(y_test, y_pred_proba)\n",
    "\n",
    "# Plot the ROC curve\n",
    "plt.plot(fpr, tpr)\n",
    "plt.xlabel('False Positive Rate')\n",
    "plt.ylabel('True Positive Rate')\n",
    "plt.title('ROC Curve before grid search')\n",
    "\n",
    "roc_auc = roc_auc_score(y_test, y_pred_proba)\n",
    "print(f\"ROC AUC score: {roc_auc}\")\n"
   ]
  },
  {
   "cell_type": "markdown",
   "metadata": {},
   "source": [
    "# Model training with sample dataset\n",
    "will be taking 200k rows of data which includes all the fruad data from the original dataset and the remaining are randomly chosen non-fraud data"
   ]
  },
  {
   "cell_type": "code",
   "execution_count": 57,
   "metadata": {},
   "outputs": [
    {
     "name": "stdout",
     "output_type": "stream",
     "text": [
      "        flag   timestamp        amount  gasUsed\n",
      "0          1  1645484754  1.000000e+16    21000\n",
      "1          0  1676256179  0.000000e+00   194886\n",
      "2          0  1625833161  0.000000e+00    46563\n",
      "3          0  1657417064  0.000000e+00    33448\n",
      "4          0  1630377260  0.000000e+00    53742\n",
      "...      ...         ...           ...      ...\n",
      "999995     0  1630282748  1.296500e+18    21000\n",
      "999996     0  1496386717  0.000000e+00    74574\n",
      "999997     0  1645293878  0.000000e+00    46263\n",
      "999998     0  1643661616  0.000000e+00    46109\n",
      "999999     1  1536894210  0.000000e+00    38799\n",
      "\n",
      "[1000000 rows x 4 columns]\n"
     ]
    }
   ],
   "source": [
    "fraudulent_df = merged_df[merged_df['flag'] == 1]\n",
    "non_fraudulent_df =  merged_df[merged_df['flag'] == 0]\n",
    "\n",
    "# Calculate how many non-fraudulent transactions you need to sample\n",
    "num_to_sample = 1000000 - len(fraudulent_df)\n",
    "\n",
    "# Check if you have enough non-fraudulent transactions\n",
    "if num_to_sample > len(non_fraudulent_df):\n",
    "    print(\"Not enough non-fraudulent transactions to sample from!\")\n",
    "elif num_to_sample <= 0:\n",
    "    # If you already have 200k or more fraudulent transactions\n",
    "    sampled_df = fraudulent_df.sample(n=200000, random_state=1)\n",
    "else:\n",
    "    # Randomly sample non-fraudulent transactions\n",
    "    sampled_non_fraudulent_df = non_fraudulent_df.sample(n=num_to_sample, random_state=1)  # Setting random state for reproducibility\n",
    "\n",
    "    # Concatenate the fraudulent transactions with the sampled non-fraudulent transactions\n",
    "    sampled_df = pd.concat([fraudulent_df, sampled_non_fraudulent_df])\n",
    "\n",
    "    # Shuffle the dataset to mix fraudulent and non-fraudulent transactions\n",
    "    sampled_df = sampled_df.sample(frac=1, random_state=1).reset_index(drop=True)\n",
    "    print(sampled_df)\n",
    "\n"
   ]
  },
  {
   "cell_type": "code",
   "execution_count": 59,
   "metadata": {},
   "outputs": [
    {
     "data": {
      "text/plain": [
       "((700000, 3), (300000, 3), (700000,), (300000,))"
      ]
     },
     "execution_count": 59,
     "metadata": {},
     "output_type": "execute_result"
    }
   ],
   "source": [
    "X = sampled_df.drop(['flag'], axis=1)\n",
    "y = sampled_df['flag']\n",
    "X_train_sampled, X_test_sampled, y_train_sampled, y_test_sampled = train_test_split(X, y, test_size=0.3, random_state=101)\n",
    "X_train_sampled.shape, X_test_sampled.shape, y_train_sampled.shape, y_test_sampled.shape"
   ]
  },
  {
   "cell_type": "code",
   "execution_count": 60,
   "metadata": {},
   "outputs": [
    {
     "name": "stdout",
     "output_type": "stream",
     "text": [
      "Accuracy: 0.90877\n",
      "F1 score: 0.8718397774791268\n",
      "Precision: 0.8790225109533162\n",
      "Recall: 0.8647734767624409\n",
      "              precision    recall  f1-score   support\n",
      "\n",
      "           0       0.93      0.93      0.93    192351\n",
      "           1       0.88      0.86      0.87    107649\n",
      "\n",
      "    accuracy                           0.91    300000\n",
      "   macro avg       0.90      0.90      0.90    300000\n",
      "weighted avg       0.91      0.91      0.91    300000\n",
      "\n"
     ]
    }
   ],
   "source": [
    "# xgboost with sampled dataset\n",
    "# Define the XGBoost model\n",
    "xgb_model_s = XGBClassifier(objective='binary:logistic', random_state=1)\n",
    "\n",
    "# Fit the model to the training data\n",
    "xgb_model_s .fit(X_train_sampled, y_train_sampled)\n",
    "\n",
    "# Make predictions on the test data\n",
    "y_pred = xgb_model_s .predict(X_test_sampled)\n",
    "\n",
    "accuracy = accuracy_score(y_test_sampled, y_pred)\n",
    "f1 = f1_score(y_test_sampled, y_pred)\n",
    "precision = precision_score(y_test_sampled, y_pred)\n",
    "recall = recall_score(y_test_sampled, y_pred)\n",
    "\n",
    "print(f\"Accuracy: {accuracy}\")\n",
    "print(f\"F1 score: {f1}\")\n",
    "print(f\"Precision: {precision}\")\n",
    "print(f\"Recall: {recall}\")\n",
    "print(classification_report(y_test_sampled, y_pred))"
   ]
  },
  {
   "cell_type": "code",
   "execution_count": 67,
   "metadata": {},
   "outputs": [
    {
     "name": "stdout",
     "output_type": "stream",
     "text": [
      "ROC AUC score: 0.9659708353917622\n"
     ]
    },
    {
     "data": {
      "image/png": "[encoded data removed]",
      "text/plain": [
       "<Figure size 640x480 with 1 Axes>"
      ]
     },
     "metadata": {},
     "output_type": "display_data"
    }
   ],
   "source": [
    "from sklearn.metrics import roc_curve, roc_auc_score\n",
    "y_pred_proba = xgb_model_s.predict_proba(X_test_sampled)[:, 1]\n",
    "fpr, tpr, thresholds = roc_curve(y_test_sampled, y_pred_proba)\n",
    "\n",
    "# Plot the ROC curve\n",
    "plt.plot(fpr, tpr)\n",
    "plt.xlabel('False Positive Rate')\n",
    "plt.ylabel('True Positive Rate')\n",
    "plt.title('ROC Curve before grid search')\n",
    "\n",
    "roc_auc = roc_auc_score(y_test_sampled, y_pred_proba)\n",
    "print(f\"ROC AUC score: {roc_auc}\")\n"
   ]
  },
  {
   "cell_type": "markdown",
   "metadata": {},
   "source": [
    "# Sampling and non sampling shows different results\n",
    "\n",
    "`non sampled`\n",
    "Accuracy: 0.965486087911039 <br>\n",
    "F1 score: 0.6994643161407489 <br>\n",
    "Precision: 0.8629688877950737 <br>\n",
    "Recall: 0.5880482708984061 <br>\n",
    "ROC AUC: 0.965632460076272 <br>\n",
    "\n",
    "`sampled`\n",
    "Accuracy: 0.90877 <br>\n",
    "F1 score: 0.8718397774791268 <br>\n",
    "Precision: 0.8790225109533162 <br>\n",
    "Recall: 0.8647734767624409 <br>\n",
    "ROC AUC score: 0.9668677284573289 <br>\n",
    "\n",
    "## conclusion, \n",
    "accuracy is worse for sampled data, but the f1 score is better for sampled data, precision, recall and roc auc\n",
    "\n",
    "will be proceeding to tune the model based on the sampled dataset"
   ]
  },
  {
   "cell_type": "code",
   "execution_count": 63,
   "metadata": {},
   "outputs": [
    {
     "name": "stdout",
     "output_type": "stream",
     "text": [
      "Fitting 5 folds for each of 27 candidates, totalling 135 fits\n",
      "[CV] END ..learning_rate=0.01, max_depth=4, n_estimators=100; total time=  34.0s\n",
      "[CV] END ..learning_rate=0.01, max_depth=4, n_estimators=100; total time=  34.3s\n",
      "[CV] END ..learning_rate=0.01, max_depth=4, n_estimators=100; total time=  34.5s\n",
      "[CV] END ..learning_rate=0.01, max_depth=4, n_estimators=100; total time=  34.6s\n",
      "[CV] END ..learning_rate=0.01, max_depth=4, n_estimators=100; total time=  34.7s\n",
      "[CV] END ..learning_rate=0.01, max_depth=4, n_estimators=200; total time= 1.1min\n",
      "[CV] END ..learning_rate=0.01, max_depth=4, n_estimators=200; total time= 1.2min\n",
      "[CV] END ..learning_rate=0.01, max_depth=4, n_estimators=200; total time= 1.2min\n",
      "[CV] END ..learning_rate=0.01, max_depth=4, n_estimators=200; total time= 1.1min\n",
      "[CV] END ..learning_rate=0.01, max_depth=4, n_estimators=200; total time= 1.1min\n",
      "[CV] END ..learning_rate=0.01, max_depth=6, n_estimators=100; total time=  52.8s\n",
      "[CV] END ..learning_rate=0.01, max_depth=4, n_estimators=300; total time= 1.7min\n",
      "[CV] END ..learning_rate=0.01, max_depth=4, n_estimators=300; total time= 1.7min\n",
      "[CV] END ..learning_rate=0.01, max_depth=4, n_estimators=300; total time= 1.7min\n",
      "[CV] END ..learning_rate=0.01, max_depth=6, n_estimators=100; total time=  57.9s\n",
      "[CV] END ..learning_rate=0.01, max_depth=6, n_estimators=100; total time=  58.0s\n",
      "[CV] END ..learning_rate=0.01, max_depth=4, n_estimators=300; total time= 1.7min\n",
      "[CV] END ..learning_rate=0.01, max_depth=4, n_estimators=300; total time= 1.8min\n",
      "[CV] END ..learning_rate=0.01, max_depth=6, n_estimators=100; total time=  56.1s\n",
      "[CV] END ..learning_rate=0.01, max_depth=6, n_estimators=100; total time=  55.1s\n",
      "[CV] END ..learning_rate=0.01, max_depth=6, n_estimators=200; total time= 1.8min\n",
      "[CV] END ..learning_rate=0.01, max_depth=6, n_estimators=200; total time= 1.8min\n",
      "[CV] END ..learning_rate=0.01, max_depth=6, n_estimators=200; total time= 1.8min\n",
      "[CV] END ..learning_rate=0.01, max_depth=6, n_estimators=200; total time= 1.8min\n",
      "[CV] END ..learning_rate=0.01, max_depth=6, n_estimators=200; total time= 1.7min\n",
      "[CV] END ..learning_rate=0.01, max_depth=6, n_estimators=300; total time= 2.5min\n",
      "[CV] END ..learning_rate=0.01, max_depth=6, n_estimators=300; total time= 2.5min\n",
      "[CV] END ..learning_rate=0.01, max_depth=8, n_estimators=100; total time= 1.2min\n",
      "[CV] END ..learning_rate=0.01, max_depth=8, n_estimators=100; total time= 1.2min\n",
      "[CV] END ..learning_rate=0.01, max_depth=6, n_estimators=300; total time= 2.5min\n",
      "[CV] END ..learning_rate=0.01, max_depth=8, n_estimators=100; total time= 1.2min\n",
      "[CV] END ..learning_rate=0.01, max_depth=6, n_estimators=300; total time= 2.7min\n",
      "[CV] END ..learning_rate=0.01, max_depth=6, n_estimators=300; total time= 2.7min\n",
      "[CV] END ..learning_rate=0.01, max_depth=8, n_estimators=100; total time= 1.3min\n",
      "[CV] END ..learning_rate=0.01, max_depth=8, n_estimators=100; total time= 1.3min\n",
      "[CV] END ..learning_rate=0.01, max_depth=8, n_estimators=200; total time= 2.6min\n",
      "[CV] END ..learning_rate=0.01, max_depth=8, n_estimators=200; total time= 2.6min\n",
      "[CV] END ..learning_rate=0.01, max_depth=8, n_estimators=200; total time= 2.6min\n",
      "[CV] END ..learning_rate=0.01, max_depth=8, n_estimators=200; total time= 2.6min\n",
      "[CV] END ...learning_rate=0.1, max_depth=4, n_estimators=100; total time=  34.2s\n",
      "[CV] END ...learning_rate=0.1, max_depth=4, n_estimators=100; total time=  34.7s\n",
      "[CV] END ..learning_rate=0.01, max_depth=8, n_estimators=200; total time= 2.5min\n",
      "[CV] END ...learning_rate=0.1, max_depth=4, n_estimators=100; total time=  33.6s\n",
      "[CV] END ...learning_rate=0.1, max_depth=4, n_estimators=100; total time=  33.6s\n",
      "[CV] END ...learning_rate=0.1, max_depth=4, n_estimators=100; total time=  34.8s\n",
      "[CV] END ..learning_rate=0.01, max_depth=8, n_estimators=300; total time= 3.7min\n",
      "[CV] END ..learning_rate=0.01, max_depth=8, n_estimators=300; total time= 3.7min\n",
      "[CV] END ..learning_rate=0.01, max_depth=8, n_estimators=300; total time= 3.7min\n",
      "[CV] END ...learning_rate=0.1, max_depth=4, n_estimators=200; total time= 1.1min\n",
      "[CV] END ...learning_rate=0.1, max_depth=4, n_estimators=200; total time= 1.1min\n",
      "[CV] END ...learning_rate=0.1, max_depth=4, n_estimators=200; total time= 1.1min\n",
      "[CV] END ...learning_rate=0.1, max_depth=4, n_estimators=200; total time= 1.1min\n",
      "[CV] END ...learning_rate=0.1, max_depth=4, n_estimators=200; total time= 1.1min\n",
      "[CV] END ..learning_rate=0.01, max_depth=8, n_estimators=300; total time= 3.6min\n",
      "[CV] END ..learning_rate=0.01, max_depth=8, n_estimators=300; total time= 3.6min\n",
      "[CV] END ...learning_rate=0.1, max_depth=4, n_estimators=300; total time= 1.6min\n",
      "[CV] END ...learning_rate=0.1, max_depth=4, n_estimators=300; total time= 1.6min\n",
      "[CV] END ...learning_rate=0.1, max_depth=4, n_estimators=300; total time= 1.6min\n",
      "[CV] END ...learning_rate=0.1, max_depth=6, n_estimators=100; total time=  45.6s\n",
      "[CV] END ...learning_rate=0.1, max_depth=4, n_estimators=300; total time= 1.5min\n",
      "[CV] END ...learning_rate=0.1, max_depth=6, n_estimators=100; total time=  45.7s\n",
      "[CV] END ...learning_rate=0.1, max_depth=6, n_estimators=100; total time=  45.8s\n",
      "[CV] END ...learning_rate=0.1, max_depth=6, n_estimators=100; total time=  45.9s\n",
      "[CV] END ...learning_rate=0.1, max_depth=6, n_estimators=100; total time=  45.5s\n",
      "[CV] END ...learning_rate=0.1, max_depth=4, n_estimators=300; total time= 1.5min\n",
      "[CV] END ...learning_rate=0.1, max_depth=6, n_estimators=200; total time= 1.5min\n",
      "[CV] END ...learning_rate=0.1, max_depth=6, n_estimators=200; total time= 1.5min\n",
      "[CV] END ...learning_rate=0.1, max_depth=6, n_estimators=200; total time= 1.5min\n",
      "[CV] END ...learning_rate=0.1, max_depth=6, n_estimators=200; total time= 1.5min\n",
      "[CV] END ...learning_rate=0.1, max_depth=6, n_estimators=200; total time= 1.5min\n",
      "[CV] END ...learning_rate=0.1, max_depth=8, n_estimators=100; total time= 1.1min\n",
      "[CV] END ...learning_rate=0.1, max_depth=8, n_estimators=100; total time= 1.1min\n",
      "[CV] END ...learning_rate=0.1, max_depth=8, n_estimators=100; total time= 1.1min\n",
      "[CV] END ...learning_rate=0.1, max_depth=6, n_estimators=300; total time= 2.3min\n",
      "[CV] END ...learning_rate=0.1, max_depth=6, n_estimators=300; total time= 2.4min\n",
      "[CV] END ...learning_rate=0.1, max_depth=6, n_estimators=300; total time= 2.4min\n",
      "[CV] END ...learning_rate=0.1, max_depth=6, n_estimators=300; total time= 2.5min\n",
      "[CV] END ...learning_rate=0.1, max_depth=8, n_estimators=100; total time= 1.3min\n",
      "[CV] END ...learning_rate=0.1, max_depth=8, n_estimators=100; total time= 1.3min\n",
      "[CV] END ...learning_rate=0.1, max_depth=6, n_estimators=300; total time= 2.6min\n",
      "[CV] END ...learning_rate=0.1, max_depth=8, n_estimators=200; total time= 2.4min\n",
      "[CV] END ...learning_rate=0.1, max_depth=8, n_estimators=200; total time= 2.4min\n",
      "[CV] END ...learning_rate=0.1, max_depth=8, n_estimators=200; total time= 2.4min\n",
      "[CV] END ...learning_rate=0.1, max_depth=8, n_estimators=200; total time= 2.4min\n",
      "[CV] END ...learning_rate=0.2, max_depth=4, n_estimators=100; total time=  30.0s\n",
      "[CV] END ...learning_rate=0.2, max_depth=4, n_estimators=100; total time=  29.3s\n",
      "[CV] END ...learning_rate=0.1, max_depth=8, n_estimators=200; total time= 2.2min\n",
      "[CV] END ...learning_rate=0.2, max_depth=4, n_estimators=100; total time=  29.2s\n",
      "[CV] END ...learning_rate=0.2, max_depth=4, n_estimators=100; total time=  29.7s\n",
      "[CV] END ...learning_rate=0.2, max_depth=4, n_estimators=100; total time=  31.9s\n",
      "[CV] END ...learning_rate=0.1, max_depth=8, n_estimators=300; total time= 3.2min\n",
      "[CV] END ...learning_rate=0.1, max_depth=8, n_estimators=300; total time= 3.2min\n",
      "[CV] END ...learning_rate=0.1, max_depth=8, n_estimators=300; total time= 3.2min\n",
      "[CV] END ...learning_rate=0.2, max_depth=4, n_estimators=200; total time= 1.1min\n",
      "[CV] END ...learning_rate=0.2, max_depth=4, n_estimators=200; total time= 1.1min\n",
      "[CV] END ...learning_rate=0.2, max_depth=4, n_estimators=200; total time= 1.1min\n",
      "[CV] END ...learning_rate=0.2, max_depth=4, n_estimators=200; total time= 1.2min\n",
      "[CV] END ...learning_rate=0.2, max_depth=4, n_estimators=200; total time= 1.2min\n",
      "[CV] END ...learning_rate=0.1, max_depth=8, n_estimators=300; total time= 3.3min\n",
      "[CV] END ...learning_rate=0.1, max_depth=8, n_estimators=300; total time= 3.3min\n",
      "[CV] END ...learning_rate=0.2, max_depth=4, n_estimators=300; total time= 1.7min\n",
      "[CV] END ...learning_rate=0.2, max_depth=4, n_estimators=300; total time= 1.7min\n",
      "[CV] END ...learning_rate=0.2, max_depth=4, n_estimators=300; total time= 1.7min\n",
      "[CV] END ...learning_rate=0.2, max_depth=6, n_estimators=100; total time=  49.2s\n",
      "[CV] END ...learning_rate=0.2, max_depth=4, n_estimators=300; total time= 1.7min\n",
      "[CV] END ...learning_rate=0.2, max_depth=6, n_estimators=100; total time=  49.3s\n",
      "[CV] END ...learning_rate=0.2, max_depth=6, n_estimators=100; total time=  49.4s\n",
      "[CV] END ...learning_rate=0.2, max_depth=6, n_estimators=100; total time=  48.2s\n",
      "[CV] END ...learning_rate=0.2, max_depth=6, n_estimators=100; total time=  48.8s\n",
      "[CV] END ...learning_rate=0.2, max_depth=4, n_estimators=300; total time= 1.6min\n",
      "[CV] END ...learning_rate=0.2, max_depth=6, n_estimators=200; total time= 1.6min\n",
      "[CV] END ...learning_rate=0.2, max_depth=6, n_estimators=200; total time= 1.6min\n",
      "[CV] END ...learning_rate=0.2, max_depth=6, n_estimators=200; total time= 1.6min\n",
      "[CV] END ...learning_rate=0.2, max_depth=6, n_estimators=200; total time= 1.6min\n",
      "[CV] END ...learning_rate=0.2, max_depth=6, n_estimators=200; total time= 1.7min\n",
      "[CV] END ...learning_rate=0.2, max_depth=8, n_estimators=100; total time= 1.1min\n",
      "[CV] END ...learning_rate=0.2, max_depth=8, n_estimators=100; total time= 1.1min\n",
      "[CV] END ...learning_rate=0.2, max_depth=8, n_estimators=100; total time= 1.1min\n",
      "[CV] END ...learning_rate=0.2, max_depth=6, n_estimators=300; total time= 2.4min\n",
      "[CV] END ...learning_rate=0.2, max_depth=6, n_estimators=300; total time= 2.4min\n",
      "[CV] END ...learning_rate=0.2, max_depth=6, n_estimators=300; total time= 2.4min\n",
      "[CV] END ...learning_rate=0.2, max_depth=8, n_estimators=100; total time= 1.1min\n",
      "[CV] END ...learning_rate=0.2, max_depth=8, n_estimators=100; total time= 1.1min\n",
      "[CV] END ...learning_rate=0.2, max_depth=6, n_estimators=300; total time= 2.4min\n",
      "[CV] END ...learning_rate=0.2, max_depth=6, n_estimators=300; total time= 2.4min\n",
      "[CV] END ...learning_rate=0.2, max_depth=8, n_estimators=200; total time= 2.1min\n",
      "[CV] END ...learning_rate=0.2, max_depth=8, n_estimators=200; total time= 2.1min\n",
      "[CV] END ...learning_rate=0.2, max_depth=8, n_estimators=200; total time= 2.2min\n",
      "[CV] END ...learning_rate=0.2, max_depth=8, n_estimators=200; total time= 2.1min\n",
      "[CV] END ...learning_rate=0.2, max_depth=8, n_estimators=200; total time= 2.0min\n",
      "[CV] END ...learning_rate=0.2, max_depth=8, n_estimators=300; total time= 2.7min\n",
      "[CV] END ...learning_rate=0.2, max_depth=8, n_estimators=300; total time= 2.7min\n",
      "[CV] END ...learning_rate=0.2, max_depth=8, n_estimators=300; total time= 2.7min\n",
      "[CV] END ...learning_rate=0.2, max_depth=8, n_estimators=300; total time= 2.1min\n",
      "[CV] END ...learning_rate=0.2, max_depth=8, n_estimators=300; total time= 2.0min\n",
      "Best parameters: {'learning_rate': 0.2, 'max_depth': 8, 'n_estimators': 300}\n",
      "Best score: 0.9242157142857144\n"
     ]
    }
   ],
   "source": [
    "# training xgboost with grid search, finding best parameters\n",
    "param_grid = {\n",
    "    'n_estimators': [100, 200, 300],\n",
    "    'max_depth': [4, 6, 8],\n",
    "    'learning_rate': [0.01, 0.1, 0.2]\n",
    "}\n",
    "# Define the XGBoost model\n",
    "xgb_model_tune = XGBClassifier(objective='binary:logistic', random_state=1)\n",
    "\n",
    "# Create the GridSearchCV object\n",
    "grid_search = GridSearchCV(estimator=xgb_model_tune, param_grid=param_grid, cv=5, n_jobs=-1, verbose=2)\n",
    "\n",
    "# Fit the GridSearchCV object to the training data\n",
    "grid_search.fit(X_train_sampled, y_train_sampled)\n",
    "\n",
    "# Print the best parameters and best score\n",
    "print(f\"Best parameters: {grid_search.best_params_}\")\n",
    "print(f\"Best score: {grid_search.best_score_}\")\n"
   ]
  },
  {
   "cell_type": "code",
   "execution_count": 66,
   "metadata": {},
   "outputs": [
    {
     "name": "stdout",
     "output_type": "stream",
     "text": [
      "Accuracy: 0.92546\n",
      "F1 score: 0.8961114982578396\n",
      "Precision: 0.8963113725708869\n",
      "Recall: 0.8959117130674693\n",
      "              precision    recall  f1-score   support\n",
      "\n",
      "           0       0.94      0.94      0.94    192351\n",
      "           1       0.90      0.90      0.90    107649\n",
      "\n",
      "    accuracy                           0.93    300000\n",
      "   macro avg       0.92      0.92      0.92    300000\n",
      "weighted avg       0.93      0.93      0.93    300000\n",
      "\n"
     ]
    }
   ],
   "source": [
    "# Define the XGBoost model with the best parameters\n",
    "xgb_model_tuned = XGBClassifier(learning_rate=0.2, max_depth=8, n_estimators=300, objective='binary:logistic', random_state=1)\n",
    "\n",
    "\n",
    "# Fit the model to the training data\n",
    "xgb_model_tuned.fit(X_train_sampled, y_train_sampled)\n",
    "\n",
    "# Make predictions on the test data\n",
    "y_pred = xgb_model_tuned.predict(X_test_sampled)\n",
    "\n",
    "accuracy = accuracy_score(y_test_sampled, y_pred)\n",
    "f1 = f1_score(y_test_sampled, y_pred)\n",
    "precision = precision_score(y_test_sampled, y_pred)\n",
    "recall = recall_score(y_test_sampled, y_pred)\n",
    "\n",
    "print(f\"Accuracy: {accuracy}\")\n",
    "print(f\"F1 score: {f1}\")\n",
    "print(f\"Precision: {precision}\")\n",
    "print(f\"Recall: {recall}\")\n",
    "print(classification_report(y_test_sampled, y_pred))"
   ]
  },
  {
   "cell_type": "code",
   "execution_count": 68,
   "metadata": {},
   "outputs": [
    {
     "name": "stdout",
     "output_type": "stream",
     "text": [
      "ROC AUC score: 0.9777881586394801\n"
     ]
    },
    {
     "data": {
      "image/png": "[encoded data removed]",
      "text/plain": [
       "<Figure size 640x480 with 1 Axes>"
      ]
     },
     "metadata": {},
     "output_type": "display_data"
    }
   ],
   "source": [
    "from sklearn.metrics import roc_curve, roc_auc_score\n",
    "y_pred_proba = xgb_model_tuned.predict_proba(X_test_sampled)[:, 1]\n",
    "fpr, tpr, thresholds = roc_curve(y_test_sampled, y_pred_proba)\n",
    "\n",
    "# Plot the ROC curve\n",
    "plt.plot(fpr, tpr)\n",
    "plt.xlabel('False Positive Rate')\n",
    "plt.ylabel('True Positive Rate')\n",
    "plt.title('ROC Curve before grid search')\n",
    "\n",
    "roc_auc = roc_auc_score(y_test_sampled, y_pred_proba)\n",
    "print(f\"ROC AUC score: {roc_auc}\")"
   ]
  },
  {
   "cell_type": "code",
   "execution_count": null,
   "metadata": {},
   "outputs": [],
   "source": []
  }
 ],
 "metadata": {
  "kernelspec": {
   "display_name": "Python 3",
   "language": "python",
   "name": "python3"
  },
  "language_info": {
   "codemirror_mode": {
    "name": "ipython",
    "version": 3
   },
   "file_extension": ".py",
   "mimetype": "text/x-python",
   "name": "python",
   "nbconvert_exporter": "python",
   "pygments_lexer": "ipython3",
   "version": "3.11.3"
  }
 },
 "nbformat": 4,
 "nbformat_minor": 2
}
